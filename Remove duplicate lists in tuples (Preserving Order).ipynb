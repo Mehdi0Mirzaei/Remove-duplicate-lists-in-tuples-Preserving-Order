{
 "cells": [
  {
   "cell_type": "code",
   "execution_count": 26,
   "id": "d3e3f188",
   "metadata": {},
   "outputs": [
    {
     "name": "stdout",
     "output_type": "stream",
     "text": [
      "The original tuple is : ([4, 7, 8], [1, 2, 3], [4, 7, 8], [9, 10, 11], [1, 2, 3])\n",
      "The unique lists tuple is : [[4, 7, 8], [1, 2, 3], [9, 10, 11]]\n"
     ]
    }
   ],
   "source": [
    "# Initializing tuple \n",
    "test_tup = ([4, 7, 8], [1, 2, 3], [4, 7, 8], [9, 10, 11], [1, 2, 3])\n",
    " \n",
    "# printing original tuple \n",
    "print(\"The original tuple is : \" + str(test_tup))\n",
    " \n",
    "# Remove duplicate lists in tuples(Preserving Order)\n",
    "# Using list comprehension + set()\n",
    "temp = set()\n",
    "res = [ele for ele in test_tup if not(tuple(ele) in temp or temp.add(tuple(ele)))]\n",
    " \n",
    "# printing result\n",
    "print(\"The unique lists tuple is : \" + str(res))"
   ]
  },
  {
   "cell_type": "code",
   "execution_count": 27,
   "id": "cb14b1c3",
   "metadata": {},
   "outputs": [
    {
     "name": "stdout",
     "output_type": "stream",
     "text": [
      "The original tuple is : ([4, 7, 8], [1, 2, 3], [4, 7, 8], [9, 10, 11], [1, 2, 3])\n",
      "The unique lists tuple is : [[4, 7, 8], [1, 2, 3], [9, 10, 11]]\n"
     ]
    }
   ],
   "source": [
    "def remove_duplicates(tup, result, seen):\n",
    "    # Base case: if the tuple is empty, return the result\n",
    "    if not tup:\n",
    "        return result\n",
    "     \n",
    "    # If the current list is not in the \"seen\" set, append it to the result\n",
    "    # and add it to the \"seen\" set\n",
    "    if tuple(tup[0]) not in seen:\n",
    "        result.append(tup[0])\n",
    "        seen.add(tuple(tup[0]))\n",
    "    # Recursively call the function with the rest of the tuple\n",
    "    return remove_duplicates(tup[1:], result, seen)\n",
    " \n",
    "# Initialize the tuple\n",
    "test_tup = ([4, 7, 8], [1, 2, 3], [4, 7, 8], [9, 10, 11], [1, 2, 3])\n",
    " \n",
    "# Call the function with an empty result list and an empty set\n",
    "result = []\n",
    "seen = set()\n",
    "res = remove_duplicates(test_tup, result, seen)\n",
    " \n",
    "# printing original tuple \n",
    "print(\"The original tuple is : \" + str(test_tup))\n",
    "# printing result\n",
    "print(\"The unique lists tuple is : \" + str(res))"
   ]
  },
  {
   "cell_type": "code",
   "execution_count": 28,
   "id": "5d217438",
   "metadata": {},
   "outputs": [
    {
     "name": "stdout",
     "output_type": "stream",
     "text": [
      "Original tuple: ([4, 7, 8], [1, 2, 3], [4, 7, 8], [9, 10, 11], [1, 2, 3])\n",
      "Tuple with duplicate lists removed: ([4, 7, 8], [1, 2, 3], [9, 10, 11])\n"
     ]
    }
   ],
   "source": [
    "def remove_duplicates(tup):\n",
    "    result = []\n",
    "    seen = set()\n",
    "    for sublist in tup:\n",
    "        t = tuple(sublist)\n",
    "        if t not in seen:\n",
    "            result.append(sublist)\n",
    "            seen.add(t)\n",
    "    return tuple(result)\n",
    " \n",
    "# Example usage\n",
    "test_tup = ([4, 7, 8], [1, 2, 3], [4, 7, 8], [9, 10, 11], [1, 2, 3])\n",
    "unique_tup = remove_duplicates(test_tup)\n",
    " \n",
    "print(\"Original tuple:\", test_tup)\n",
    "print(\"Tuple with duplicate lists removed:\", unique_tup)"
   ]
  },
  {
   "cell_type": "code",
   "execution_count": 29,
   "id": "db0e67e6",
   "metadata": {},
   "outputs": [
    {
     "name": "stdout",
     "output_type": "stream",
     "text": [
      "The unique lists tuple is : [[4, 7, 8], [1, 2, 3], [9, 10, 11]]\n"
     ]
    }
   ],
   "source": [
    "test_tup = ([4, 7, 8], [1, 2, 3], [4, 7, 8], [9, 10, 11], [1, 2, 3])\n",
    "res = []\n",
    "for i in test_tup:\n",
    "    if i not in res:\n",
    "        res.append(i)\n",
    "print(\"The unique lists tuple is : \" + str(res))"
   ]
  },
  {
   "cell_type": "code",
   "execution_count": 30,
   "id": "cd537181",
   "metadata": {},
   "outputs": [
    {
     "name": "stdout",
     "output_type": "stream",
     "text": [
      "The original tuple is : ([4, 7, 8], [1, 2, 3], [4, 7, 8], [9, 10, 11], [1, 2, 3])\n",
      "The unique lists tuple is : ([4, 7, 8], [1, 2, 3], [9, 10, 11])\n"
     ]
    }
   ],
   "source": [
    "def remove_duplicates(tup):\n",
    "    seen = set()\n",
    "    for lst in tup:\n",
    "        tup_lst = tuple(lst)\n",
    "        if tup_lst not in seen:\n",
    "            yield lst\n",
    "            seen.add(tup_lst)\n",
    " # Initialize the tuple\n",
    "test_tup = ([4, 7, 8], [1, 2, 3], [4, 7, 8], [9, 10, 11], [1, 2, 3])\n",
    " \n",
    "# Call the generator function to get the unique lists tuple\n",
    "res = tuple(remove_duplicates(test_tup))\n",
    " \n",
    "# printing original tuple\n",
    "print(\"The original tuple is : \" + str(test_tup))\n",
    "# printing result\n",
    "print(\"The unique lists tuple is : \" + str(res))"
   ]
  },
  {
   "cell_type": "code",
   "execution_count": null,
   "id": "f80c5271",
   "metadata": {},
   "outputs": [],
   "source": []
  }
 ],
 "metadata": {
  "kernelspec": {
   "display_name": "Python 3 (ipykernel)",
   "language": "python",
   "name": "python3"
  },
  "language_info": {
   "codemirror_mode": {
    "name": "ipython",
    "version": 3
   },
   "file_extension": ".py",
   "mimetype": "text/x-python",
   "name": "python",
   "nbconvert_exporter": "python",
   "pygments_lexer": "ipython3",
   "version": "3.9.13"
  }
 },
 "nbformat": 4,
 "nbformat_minor": 5
}
